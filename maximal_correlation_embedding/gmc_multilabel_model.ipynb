{
 "cells": [
  {
   "cell_type": "code",
   "execution_count": 1,
   "metadata": {},
   "outputs": [],
   "source": [
    "import tensorflow as tf\n",
    "import numpy as np\n",
    "\n",
    "from tensorflow import keras\n",
    "from sklearn.pipeline import Pipeline\n",
    "from sklearn.preprocessing import StandardScaler\n",
    "from sklearn.model_selection import train_test_split\n",
    "from sklearn.impute import SimpleImputer\n",
    "from sklearn.utils import class_weight\n",
    "\n",
    "from gmc_model import GmcModel, get_coexist_counts\n",
    "from gmc_dense import GmcDense\n",
    "from data_handling import load_user_data, split_features_labels, \\\n",
    "    user_train_test_split\n",
    "from metrics import balanced_accuracy_score"
   ]
  },
  {
   "cell_type": "code",
   "execution_count": 2,
   "metadata": {},
   "outputs": [],
   "source": [
    "def sensitivity(y_true, y_pred):\n",
    "    # mask where y_true is nan\n",
    "    is_not_nan = tf.logical_not(tf.math.is_nan(y_true))\n",
    "    y_true = tf.boolean_mask(y_true, is_not_nan)\n",
    "    y_pred = tf.boolean_mask(y_pred, is_not_nan)\n",
    "    # return true positive ratio\n",
    "    true_positives = keras.backend.sum(tf.math.round(keras.backend.clip(\n",
    "        y_true * y_pred, 0, 1)))\n",
    "    possible_positives = keras.backend.sum(tf.math.round(keras.backend.clip(\n",
    "        y_true, 0, 1)))\n",
    "    return true_positives / (possible_positives + keras.backend.epsilon())\n",
    "\n",
    "\n",
    "def specificity(y_true, y_pred):\n",
    "    # mask where y_true is nan\n",
    "    is_not_nan = tf.logical_not(tf.math.is_nan(y_true))\n",
    "    y_true = tf.boolean_mask(y_true, is_not_nan)\n",
    "    y_pred = tf.boolean_mask(y_pred, is_not_nan)\n",
    "    # return true negative ratio\n",
    "    true_negatives = keras.backend.sum(tf.math.round(keras.backend.clip(\n",
    "        (1-y_true) * (1-y_pred), 0, 1)))\n",
    "    possible_negatives = keras.backend.sum(tf.math.round(keras.backend.clip(\n",
    "        1-y_true, 0, 1)))\n",
    "    return true_negatives / (possible_negatives + keras.backend.epsilon())"
   ]
  },
  {
   "cell_type": "code",
   "execution_count": 3,
   "metadata": {},
   "outputs": [],
   "source": [
    "gpus = tf.config.experimental.list_physical_devices('GPU')\n",
    "for gpu in gpus:\n",
    "    tf.config.experimental.set_memory_growth(gpu, True)\n",
    "keras.backend.set_floatx('float32')\n",
    "\n",
    "# load data and reset index\n",
    "data = load_user_data(\"/home/joschi/Documents/Studium/SS19/mu_practical_work/data\")\n",
    "data.reset_index(inplace=True)\n",
    "X, y = split_features_labels(data)\n",
    "attrs = list(X.index)\n",
    "labels = list(y.index)\n",
    "X = X.values\n",
    "y = y.values.astype(np.float32)"
   ]
  },
  {
   "cell_type": "code",
   "execution_count": 4,
   "metadata": {},
   "outputs": [],
   "source": [
    "X_train, X_test, y_train, y_test = user_train_test_split(X, y,\n",
    "                                                         test_size=0.2,\n",
    "                                                         random_state=42)\n",
    "X_train, X_valid, y_train, y_valid = train_test_split(X_train,\n",
    "                                                      y_train,\n",
    "                                                      test_size=0.25,\n",
    "                                                      random_state=42,\n",
    "                                                      shuffle=True)"
   ]
  },
  {
   "cell_type": "code",
   "execution_count": 5,
   "metadata": {},
   "outputs": [],
   "source": [
    "# drop uuid column, the timestamps, and the label source\n",
    "X_train = np.delete(X_train, [0, 1, 2, X_train.shape[1] - 1], 1)\n",
    "X_valid = np.delete(X_valid, [0, 1, 2, X_train.shape[1] - 1], 1)\n",
    "X_test = np.delete(X_test, [0, 1, 2, X_test.shape[1] - 1], 1)\n",
    "\n",
    "preprocess_pipeline = Pipeline([\n",
    "    ('imputer', SimpleImputer(strategy=\"mean\")),\n",
    "    ('std_scaler', StandardScaler()),\n",
    "])\n",
    "X_train = preprocess_pipeline.fit_transform(X_train)\n",
    "X_valid = preprocess_pipeline.transform(X_valid)\n",
    "X_test = preprocess_pipeline.transform(X_test)"
   ]
  },
  {
   "cell_type": "code",
   "execution_count": 6,
   "metadata": {},
   "outputs": [],
   "source": [
    "X_train = X_train.astype(np.float32)\n",
    "X_valid = X_valid.astype(np.float32)\n",
    "X_test = X_test.astype(np.float32)"
   ]
  },
  {
   "cell_type": "code",
   "execution_count": null,
   "metadata": {},
   "outputs": [],
   "source": [
    "input = keras.layers.Input(shape=(X_train.shape[1],))\n",
    "hidden1 = keras.layers.Dense(150, activation=\"selu\",\n",
    "                             kernel_initializer=\"lecun_normal\")(input)\n",
    "hidden2 = keras.layers.Dense(30, activation=\"selu\",\n",
    "                           kernel_initializer=\"lecun_normal\")(hidden1)\n",
    "embedded = GmcDense(y_train.shape[1], alpha=1., y=y_train,\n",
    "                   activation=\"sigmoid\",\n",
    "                   kernel_initializer=\"glorot_uniform\")\n",
    "output = embedded(hidden2)\n",
    "\n",
    "model = keras.models.Model(inputs=[input], outputs=[output])\n",
    "\n",
    "optimizer = keras.optimizers.Nadam(lr=1e-5)"
   ]
  },
  {
   "cell_type": "code",
   "execution_count": 8,
   "metadata": {},
   "outputs": [],
   "source": [
    "model.compile(loss=embedded.gmc_loss, optimizer=optimizer,\n",
    "              metrics=[specificity, sensitivity])"
   ]
  },
  {
   "cell_type": "code",
   "execution_count": null,
   "metadata": {},
   "outputs": [],
   "source": [
    "lr_scheduler = keras.callbacks.ReduceLROnPlateau(factor=0.5, patience=5)\n",
    "early_stopping_cb = keras.callbacks.EarlyStopping(patience=10,\n",
    "                                                  restore_best_weights=True)\n",
    "history = model.fit(X_train, y_train,\n",
    "                    epochs=100, batch_size=32,\n",
    "                    validation_data=(X_valid, y_valid),\n",
    "                    callbacks=[lr_scheduler, early_stopping_cb])\n",
    "print(history)"
   ]
  },
  {
   "cell_type": "code",
   "execution_count": null,
   "metadata": {},
   "outputs": [],
   "source": [
    "y_pred = np.round(model.predict(X_test))\n",
    "y_pred_bias = np.round(model.predict(X_train))"
   ]
  },
  {
   "cell_type": "code",
   "execution_count": null,
   "metadata": {},
   "outputs": [],
   "source": [
    "ba_score = balanced_accuracy_score(y_test.T, y_pred.T)\n",
    "print(\"Balanced accuracy: {:.2f}\".format(ba_score))\n",
    "ba_bias_score = balanced_accuracy_score(y_train.T, y_pred_bias.T)\n",
    "print(\"Balanced accuracy bias: {:.2f}\".format(ba_bias_score))"
   ]
  },
  {
   "cell_type": "code",
   "execution_count": null,
   "metadata": {},
   "outputs": [],
   "source": []
  }
 ],
 "metadata": {
  "kernelspec": {
   "display_name": "Python 3",
   "language": "python",
   "name": "python3"
  },
  "language_info": {
   "codemirror_mode": {
    "name": "ipython",
    "version": 3
   },
   "file_extension": ".py",
   "mimetype": "text/x-python",
   "name": "python",
   "nbconvert_exporter": "python",
   "pygments_lexer": "ipython3",
   "version": "3.7.3"
  },
  "pycharm": {
   "stem_cell": {
    "cell_type": "raw",
    "metadata": {
     "collapsed": false
    },
    "source": []
   }
  }
 },
 "nbformat": 4,
 "nbformat_minor": 2
}
