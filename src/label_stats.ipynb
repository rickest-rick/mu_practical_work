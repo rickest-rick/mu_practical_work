{
 "cells": [
  {
   "cell_type": "markdown",
   "metadata": {
    "pycharm": {
     "name": "#%% md\n"
    }
   },
   "source": [
    "# Statistics on the Dataset\n",
    "\n",
    "This notepad should be used to gain insights about the dataset"
   ]
  },
  {
   "cell_type": "markdown",
   "metadata": {
    "pycharm": {
     "name": "#%% md\n"
    }
   },
   "source": [
    "Gather for each Label the amount of 1, 0 and NaN"
   ]
  },
  {
   "cell_type": "code",
   "execution_count": 29,
   "metadata": {
    "pycharm": {
     "is_executing": false,
     "name": "#%%\n"
    }
   },
   "outputs": [
    {
     "name": "stdout",
     "text": [
      "The autoreload extension is already loaded. To reload it, use:\n  %reload_ext autoreload\n"
     ],
     "output_type": "stream"
    }
   ],
   "source": [
    "%load_ext autoreload\n",
    "%autoreload\n",
    "import pandas as pd\n",
    "import numpy as np\n",
    "import data_handling"
   ]
  },
  {
   "cell_type": "code",
   "execution_count": 30,
   "metadata": {
    "pycharm": {
     "is_executing": false,
     "name": "#%%\n"
    }
   },
   "outputs": [
    {
     "data": {
      "text/plain": "    timestamp  raw_acc:magnitude_stats:mean  raw_acc:magnitude_stats:std  \\\n0  1441303601                      0.985904                     0.004284   \n1  1441303711                      0.986237                     0.005683   \n2  1441303771                      0.985829                     0.003428   \n3  1441303832                      0.992570                     0.040706   \n4  1441303909                      0.998947                     0.018689   \n\n   raw_acc:magnitude_stats:moment3  raw_acc:magnitude_stats:moment4  \\\n0                        -0.002535                         0.006837   \n1                        -0.002629                         0.012895   \n2                         0.005813                         0.009183   \n3                         0.052173                         0.087916   \n4                        -0.003638                         0.048253   \n\n   raw_acc:magnitude_stats:percentile25  raw_acc:magnitude_stats:percentile50  \\\n0                              0.983566                              0.986022   \n1                              0.983817                              0.985961   \n2                              0.984117                              0.985649   \n3                              0.984075                              0.989235   \n4                              0.992785                              0.998651   \n\n   raw_acc:magnitude_stats:percentile75  \\\n0                              0.988217   \n1                              0.988318   \n2                              0.987221   \n3                              0.998642   \n4                              1.004727   \n\n   raw_acc:magnitude_stats:value_entropy  \\\n0                               2.037017   \n1                               1.297009   \n2                               1.419417   \n3                               1.452253   \n4                               1.059025   \n\n   raw_acc:magnitude_stats:time_entropy  ...  label:STAIRS_-_GOING_DOWN  \\\n0                              6.684602  ...                        NaN   \n1                              6.684595  ...                        NaN   \n2                              6.684606  ...                        NaN   \n3                              6.683790  ...                        NaN   \n4                              6.684436  ...                        NaN   \n\n   label:ELEVATOR  label:OR_standing  label:AT_SCHOOL  label:PHONE_IN_HAND  \\\n0             NaN                1.0              0.0                  NaN   \n1             NaN                1.0              0.0                  NaN   \n2             NaN                1.0              0.0                  NaN   \n3             NaN                1.0              0.0                  NaN   \n4             NaN                0.0              0.0                  NaN   \n\n   label:PHONE_IN_BAG  label:PHONE_ON_TABLE  label:WITH_CO-WORKERS  \\\n0                 NaN                   NaN                    NaN   \n1                 NaN                   NaN                    NaN   \n2                 NaN                   NaN                    NaN   \n3                 NaN                   NaN                    NaN   \n4                 NaN                   NaN                    NaN   \n\n   label:WITH_FRIENDS  label_source  \n0                 NaN             2  \n1                 NaN             2  \n2                 NaN             2  \n3                 NaN             2  \n4                 NaN             2  \n\n[5 rows x 278 columns]",
      "text/html": "<div>\n<style scoped>\n    .dataframe tbody tr th:only-of-type {\n        vertical-align: middle;\n    }\n\n    .dataframe tbody tr th {\n        vertical-align: top;\n    }\n\n    .dataframe thead th {\n        text-align: right;\n    }\n</style>\n<table border=\"1\" class=\"dataframe\">\n  <thead>\n    <tr style=\"text-align: right;\">\n      <th></th>\n      <th>timestamp</th>\n      <th>raw_acc:magnitude_stats:mean</th>\n      <th>raw_acc:magnitude_stats:std</th>\n      <th>raw_acc:magnitude_stats:moment3</th>\n      <th>raw_acc:magnitude_stats:moment4</th>\n      <th>raw_acc:magnitude_stats:percentile25</th>\n      <th>raw_acc:magnitude_stats:percentile50</th>\n      <th>raw_acc:magnitude_stats:percentile75</th>\n      <th>raw_acc:magnitude_stats:value_entropy</th>\n      <th>raw_acc:magnitude_stats:time_entropy</th>\n      <th>...</th>\n      <th>label:STAIRS_-_GOING_DOWN</th>\n      <th>label:ELEVATOR</th>\n      <th>label:OR_standing</th>\n      <th>label:AT_SCHOOL</th>\n      <th>label:PHONE_IN_HAND</th>\n      <th>label:PHONE_IN_BAG</th>\n      <th>label:PHONE_ON_TABLE</th>\n      <th>label:WITH_CO-WORKERS</th>\n      <th>label:WITH_FRIENDS</th>\n      <th>label_source</th>\n    </tr>\n  </thead>\n  <tbody>\n    <tr>\n      <th>0</th>\n      <td>1441303601</td>\n      <td>0.985904</td>\n      <td>0.004284</td>\n      <td>-0.002535</td>\n      <td>0.006837</td>\n      <td>0.983566</td>\n      <td>0.986022</td>\n      <td>0.988217</td>\n      <td>2.037017</td>\n      <td>6.684602</td>\n      <td>...</td>\n      <td>NaN</td>\n      <td>NaN</td>\n      <td>1.0</td>\n      <td>0.0</td>\n      <td>NaN</td>\n      <td>NaN</td>\n      <td>NaN</td>\n      <td>NaN</td>\n      <td>NaN</td>\n      <td>2</td>\n    </tr>\n    <tr>\n      <th>1</th>\n      <td>1441303711</td>\n      <td>0.986237</td>\n      <td>0.005683</td>\n      <td>-0.002629</td>\n      <td>0.012895</td>\n      <td>0.983817</td>\n      <td>0.985961</td>\n      <td>0.988318</td>\n      <td>1.297009</td>\n      <td>6.684595</td>\n      <td>...</td>\n      <td>NaN</td>\n      <td>NaN</td>\n      <td>1.0</td>\n      <td>0.0</td>\n      <td>NaN</td>\n      <td>NaN</td>\n      <td>NaN</td>\n      <td>NaN</td>\n      <td>NaN</td>\n      <td>2</td>\n    </tr>\n    <tr>\n      <th>2</th>\n      <td>1441303771</td>\n      <td>0.985829</td>\n      <td>0.003428</td>\n      <td>0.005813</td>\n      <td>0.009183</td>\n      <td>0.984117</td>\n      <td>0.985649</td>\n      <td>0.987221</td>\n      <td>1.419417</td>\n      <td>6.684606</td>\n      <td>...</td>\n      <td>NaN</td>\n      <td>NaN</td>\n      <td>1.0</td>\n      <td>0.0</td>\n      <td>NaN</td>\n      <td>NaN</td>\n      <td>NaN</td>\n      <td>NaN</td>\n      <td>NaN</td>\n      <td>2</td>\n    </tr>\n    <tr>\n      <th>3</th>\n      <td>1441303832</td>\n      <td>0.992570</td>\n      <td>0.040706</td>\n      <td>0.052173</td>\n      <td>0.087916</td>\n      <td>0.984075</td>\n      <td>0.989235</td>\n      <td>0.998642</td>\n      <td>1.452253</td>\n      <td>6.683790</td>\n      <td>...</td>\n      <td>NaN</td>\n      <td>NaN</td>\n      <td>1.0</td>\n      <td>0.0</td>\n      <td>NaN</td>\n      <td>NaN</td>\n      <td>NaN</td>\n      <td>NaN</td>\n      <td>NaN</td>\n      <td>2</td>\n    </tr>\n    <tr>\n      <th>4</th>\n      <td>1441303909</td>\n      <td>0.998947</td>\n      <td>0.018689</td>\n      <td>-0.003638</td>\n      <td>0.048253</td>\n      <td>0.992785</td>\n      <td>0.998651</td>\n      <td>1.004727</td>\n      <td>1.059025</td>\n      <td>6.684436</td>\n      <td>...</td>\n      <td>NaN</td>\n      <td>NaN</td>\n      <td>0.0</td>\n      <td>0.0</td>\n      <td>NaN</td>\n      <td>NaN</td>\n      <td>NaN</td>\n      <td>NaN</td>\n      <td>NaN</td>\n      <td>2</td>\n    </tr>\n  </tbody>\n</table>\n<p>5 rows × 278 columns</p>\n</div>"
     },
     "metadata": {},
     "output_type": "execute_result",
     "execution_count": 30
    }
   ],
   "source": [
    "%autoreload\n",
    "data = data_handling.read_all_user_data()\n",
    "data.head(5)"
   ]
  },
  {
   "cell_type": "code",
   "execution_count": 31,
   "metadata": {
    "pycharm": {
     "is_executing": false
    }
   },
   "outputs": [],
   "source": [
    "labels = data.iloc[:, 226:-1]\n",
    "results = pd.DataFrame([],columns=['0', '1', 'NaN'])\n",
    "for column in labels.columns[:]:\n",
    "    values = labels[column]\n",
    "    zeros = 0\n",
    "    ones = 0\n",
    "    nans = 0\n",
    "    for value in values.values:\n",
    "        if pd.isna(value): nans += 1\n",
    "        elif value < 0.1: zeros += 1\n",
    "        elif value > 0.1: ones += 1\n",
    "    \n",
    "    temp = pd.DataFrame([[zeros, ones, nans]], index=[column],  columns=['0', '1', 'NaN'])\n",
    "    results = pd.concat([results, temp])\n",
    "    "
   ]
  },
  {
   "cell_type": "markdown",
   "source": [
    "Sorted ascending for zeros"
   ],
   "metadata": {
    "collapsed": false,
    "pycharm": {
     "name": "#%% md\n",
     "is_executing": false
    }
   }
  },
  {
   "cell_type": "code",
   "execution_count": 32,
   "outputs": [
    {
     "data": {
      "text/plain": "                                    0       1     NaN\nlabel:OR_indoors                12114  184692  180540\nlabel:SINGING                   24466     651  352229\nlabel:AT_A_BAR                  32669     551  344126\nlabel:AT_THE_GYM                43242    1151  332953\nlabel:LAB_WORK                  45547    3848  327951\nlabel:PHONE_ON_TABLE            47386  115037  214923\nlabel:STROLLING                 52955     806  323585\nlabel:AT_A_PARTY                53093    1470  322783\nlabel:LOC_beach                 57059     585  319702\nlabel:DRINKING__ALCOHOL_        69327    1456  306563\nlabel:ELEVATOR                  70996     200  306150\nlabel:DOING_LAUNDRY             73416     556  303374\nlabel:PHONE_IN_BAG              82261   10201  284884\nlabel:STAIRS_-_GOING_DOWN       93641     774  282931\nlabel:STAIRS_-_GOING_UP         93831     798  282717\nlabel:IN_CLASS                 102953    6110  268283\nlabel:WITH_CO-WORKERS          105840    6224  265282\nlabel:PHONE_IN_POCKET          110963   23401  242982\nlabel:PHONE_IN_HAND            127130   14573  235643\nlabel:DRIVE_-_I_M_A_PASSENGER  128561    2526  246259\nlabel:BICYCLING                130163    5020  242163\nlabel:WASHING_DISHES           135246    1228  240872\nlabel:SHOPPING                 136952    1841  238553\nlabel:OR_outside               139384   12114  225848\nlabel:FIX_running              139780    1090  236476\nlabel:WITH_FRIENDS             140677   24737  211932\nlabel:DRIVE_-_I_M_THE_DRIVER   154289    7975  215082\nlabel:FIX_restaurant           155484    2098  219764\nlabel:CLEANING                 155614    3806  217926\nlabel:ON_A_BUS                 167238    1794  208314\nlabel:LOC_main_workplace       167783   33944  175619\nlabel:IN_A_CAR                 168613    6083  202650\nlabel:SITTING                  170238  136356   70752\nlabel:SURFING_THE_INTERNET     173267   19416  184663\nlabel:WATCHING_TV              183041   13311  180994\nlabel:GROOMING                 195736    3064  178546\nlabel:BATHING_-_SHOWER         199033    2087  176226\nlabel:COMPUTER_WORK            199478   38081  139787\nlabel:LYING_DOWN               199513  104210   73623\nlabel:SLEEPING                 202213   83055   92078\nlabel:LOC_home                 202442  152892   22012\nlabel:COOKING                  205317    4029  168000\nlabel:DRESSING                 205675    2233  169438\nlabel:AT_SCHOOL                216833   42331  118182\nlabel:TOILET                   217618    2655  157073\nlabel:IN_A_MEETING             226060    5153  146133\nlabel:OR_exercise              232756    8081  136509\nlabel:TALKING                  243253   36293   97800\nlabel:OR_standing              268812   37782   70752\nlabel:EATING                   279887   16594   80865\nlabel:FIX_walking              284458   22136   70752",
      "text/html": "<div>\n<style scoped>\n    .dataframe tbody tr th:only-of-type {\n        vertical-align: middle;\n    }\n\n    .dataframe tbody tr th {\n        vertical-align: top;\n    }\n\n    .dataframe thead th {\n        text-align: right;\n    }\n</style>\n<table border=\"1\" class=\"dataframe\">\n  <thead>\n    <tr style=\"text-align: right;\">\n      <th></th>\n      <th>0</th>\n      <th>1</th>\n      <th>NaN</th>\n    </tr>\n  </thead>\n  <tbody>\n    <tr>\n      <th>label:OR_indoors</th>\n      <td>12114</td>\n      <td>184692</td>\n      <td>180540</td>\n    </tr>\n    <tr>\n      <th>label:SINGING</th>\n      <td>24466</td>\n      <td>651</td>\n      <td>352229</td>\n    </tr>\n    <tr>\n      <th>label:AT_A_BAR</th>\n      <td>32669</td>\n      <td>551</td>\n      <td>344126</td>\n    </tr>\n    <tr>\n      <th>label:AT_THE_GYM</th>\n      <td>43242</td>\n      <td>1151</td>\n      <td>332953</td>\n    </tr>\n    <tr>\n      <th>label:LAB_WORK</th>\n      <td>45547</td>\n      <td>3848</td>\n      <td>327951</td>\n    </tr>\n    <tr>\n      <th>label:PHONE_ON_TABLE</th>\n      <td>47386</td>\n      <td>115037</td>\n      <td>214923</td>\n    </tr>\n    <tr>\n      <th>label:STROLLING</th>\n      <td>52955</td>\n      <td>806</td>\n      <td>323585</td>\n    </tr>\n    <tr>\n      <th>label:AT_A_PARTY</th>\n      <td>53093</td>\n      <td>1470</td>\n      <td>322783</td>\n    </tr>\n    <tr>\n      <th>label:LOC_beach</th>\n      <td>57059</td>\n      <td>585</td>\n      <td>319702</td>\n    </tr>\n    <tr>\n      <th>label:DRINKING__ALCOHOL_</th>\n      <td>69327</td>\n      <td>1456</td>\n      <td>306563</td>\n    </tr>\n    <tr>\n      <th>label:ELEVATOR</th>\n      <td>70996</td>\n      <td>200</td>\n      <td>306150</td>\n    </tr>\n    <tr>\n      <th>label:DOING_LAUNDRY</th>\n      <td>73416</td>\n      <td>556</td>\n      <td>303374</td>\n    </tr>\n    <tr>\n      <th>label:PHONE_IN_BAG</th>\n      <td>82261</td>\n      <td>10201</td>\n      <td>284884</td>\n    </tr>\n    <tr>\n      <th>label:STAIRS_-_GOING_DOWN</th>\n      <td>93641</td>\n      <td>774</td>\n      <td>282931</td>\n    </tr>\n    <tr>\n      <th>label:STAIRS_-_GOING_UP</th>\n      <td>93831</td>\n      <td>798</td>\n      <td>282717</td>\n    </tr>\n    <tr>\n      <th>label:IN_CLASS</th>\n      <td>102953</td>\n      <td>6110</td>\n      <td>268283</td>\n    </tr>\n    <tr>\n      <th>label:WITH_CO-WORKERS</th>\n      <td>105840</td>\n      <td>6224</td>\n      <td>265282</td>\n    </tr>\n    <tr>\n      <th>label:PHONE_IN_POCKET</th>\n      <td>110963</td>\n      <td>23401</td>\n      <td>242982</td>\n    </tr>\n    <tr>\n      <th>label:PHONE_IN_HAND</th>\n      <td>127130</td>\n      <td>14573</td>\n      <td>235643</td>\n    </tr>\n    <tr>\n      <th>label:DRIVE_-_I_M_A_PASSENGER</th>\n      <td>128561</td>\n      <td>2526</td>\n      <td>246259</td>\n    </tr>\n    <tr>\n      <th>label:BICYCLING</th>\n      <td>130163</td>\n      <td>5020</td>\n      <td>242163</td>\n    </tr>\n    <tr>\n      <th>label:WASHING_DISHES</th>\n      <td>135246</td>\n      <td>1228</td>\n      <td>240872</td>\n    </tr>\n    <tr>\n      <th>label:SHOPPING</th>\n      <td>136952</td>\n      <td>1841</td>\n      <td>238553</td>\n    </tr>\n    <tr>\n      <th>label:OR_outside</th>\n      <td>139384</td>\n      <td>12114</td>\n      <td>225848</td>\n    </tr>\n    <tr>\n      <th>label:FIX_running</th>\n      <td>139780</td>\n      <td>1090</td>\n      <td>236476</td>\n    </tr>\n    <tr>\n      <th>label:WITH_FRIENDS</th>\n      <td>140677</td>\n      <td>24737</td>\n      <td>211932</td>\n    </tr>\n    <tr>\n      <th>label:DRIVE_-_I_M_THE_DRIVER</th>\n      <td>154289</td>\n      <td>7975</td>\n      <td>215082</td>\n    </tr>\n    <tr>\n      <th>label:FIX_restaurant</th>\n      <td>155484</td>\n      <td>2098</td>\n      <td>219764</td>\n    </tr>\n    <tr>\n      <th>label:CLEANING</th>\n      <td>155614</td>\n      <td>3806</td>\n      <td>217926</td>\n    </tr>\n    <tr>\n      <th>label:ON_A_BUS</th>\n      <td>167238</td>\n      <td>1794</td>\n      <td>208314</td>\n    </tr>\n    <tr>\n      <th>label:LOC_main_workplace</th>\n      <td>167783</td>\n      <td>33944</td>\n      <td>175619</td>\n    </tr>\n    <tr>\n      <th>label:IN_A_CAR</th>\n      <td>168613</td>\n      <td>6083</td>\n      <td>202650</td>\n    </tr>\n    <tr>\n      <th>label:SITTING</th>\n      <td>170238</td>\n      <td>136356</td>\n      <td>70752</td>\n    </tr>\n    <tr>\n      <th>label:SURFING_THE_INTERNET</th>\n      <td>173267</td>\n      <td>19416</td>\n      <td>184663</td>\n    </tr>\n    <tr>\n      <th>label:WATCHING_TV</th>\n      <td>183041</td>\n      <td>13311</td>\n      <td>180994</td>\n    </tr>\n    <tr>\n      <th>label:GROOMING</th>\n      <td>195736</td>\n      <td>3064</td>\n      <td>178546</td>\n    </tr>\n    <tr>\n      <th>label:BATHING_-_SHOWER</th>\n      <td>199033</td>\n      <td>2087</td>\n      <td>176226</td>\n    </tr>\n    <tr>\n      <th>label:COMPUTER_WORK</th>\n      <td>199478</td>\n      <td>38081</td>\n      <td>139787</td>\n    </tr>\n    <tr>\n      <th>label:LYING_DOWN</th>\n      <td>199513</td>\n      <td>104210</td>\n      <td>73623</td>\n    </tr>\n    <tr>\n      <th>label:SLEEPING</th>\n      <td>202213</td>\n      <td>83055</td>\n      <td>92078</td>\n    </tr>\n    <tr>\n      <th>label:LOC_home</th>\n      <td>202442</td>\n      <td>152892</td>\n      <td>22012</td>\n    </tr>\n    <tr>\n      <th>label:COOKING</th>\n      <td>205317</td>\n      <td>4029</td>\n      <td>168000</td>\n    </tr>\n    <tr>\n      <th>label:DRESSING</th>\n      <td>205675</td>\n      <td>2233</td>\n      <td>169438</td>\n    </tr>\n    <tr>\n      <th>label:AT_SCHOOL</th>\n      <td>216833</td>\n      <td>42331</td>\n      <td>118182</td>\n    </tr>\n    <tr>\n      <th>label:TOILET</th>\n      <td>217618</td>\n      <td>2655</td>\n      <td>157073</td>\n    </tr>\n    <tr>\n      <th>label:IN_A_MEETING</th>\n      <td>226060</td>\n      <td>5153</td>\n      <td>146133</td>\n    </tr>\n    <tr>\n      <th>label:OR_exercise</th>\n      <td>232756</td>\n      <td>8081</td>\n      <td>136509</td>\n    </tr>\n    <tr>\n      <th>label:TALKING</th>\n      <td>243253</td>\n      <td>36293</td>\n      <td>97800</td>\n    </tr>\n    <tr>\n      <th>label:OR_standing</th>\n      <td>268812</td>\n      <td>37782</td>\n      <td>70752</td>\n    </tr>\n    <tr>\n      <th>label:EATING</th>\n      <td>279887</td>\n      <td>16594</td>\n      <td>80865</td>\n    </tr>\n    <tr>\n      <th>label:FIX_walking</th>\n      <td>284458</td>\n      <td>22136</td>\n      <td>70752</td>\n    </tr>\n  </tbody>\n</table>\n</div>"
     },
     "metadata": {},
     "output_type": "execute_result",
     "execution_count": 32
    }
   ],
   "source": [
    "results.sort_values(by=['0'], inplace=False)"
   ],
   "metadata": {
    "collapsed": false,
    "pycharm": {
     "name": "#%%\n",
     "is_executing": false
    }
   }
  },
  {
   "cell_type": "markdown",
   "source": [
    "Sorted ascending for 1"
   ],
   "metadata": {
    "collapsed": false
   }
  },
  {
   "cell_type": "code",
   "execution_count": 33,
   "outputs": [
    {
     "data": {
      "text/plain": "                                    0       1     NaN\nlabel:ELEVATOR                  70996     200  306150\nlabel:AT_A_BAR                  32669     551  344126\nlabel:DOING_LAUNDRY             73416     556  303374\nlabel:LOC_beach                 57059     585  319702\nlabel:SINGING                   24466     651  352229\nlabel:STAIRS_-_GOING_DOWN       93641     774  282931\nlabel:STAIRS_-_GOING_UP         93831     798  282717\nlabel:STROLLING                 52955     806  323585\nlabel:FIX_running              139780    1090  236476\nlabel:AT_THE_GYM                43242    1151  332953\nlabel:WASHING_DISHES           135246    1228  240872\nlabel:DRINKING__ALCOHOL_        69327    1456  306563\nlabel:AT_A_PARTY                53093    1470  322783\nlabel:ON_A_BUS                 167238    1794  208314\nlabel:SHOPPING                 136952    1841  238553\nlabel:BATHING_-_SHOWER         199033    2087  176226\nlabel:FIX_restaurant           155484    2098  219764\nlabel:DRESSING                 205675    2233  169438\nlabel:DRIVE_-_I_M_A_PASSENGER  128561    2526  246259\nlabel:TOILET                   217618    2655  157073\nlabel:GROOMING                 195736    3064  178546\nlabel:CLEANING                 155614    3806  217926\nlabel:LAB_WORK                  45547    3848  327951\nlabel:COOKING                  205317    4029  168000\nlabel:BICYCLING                130163    5020  242163\nlabel:IN_A_MEETING             226060    5153  146133\nlabel:IN_A_CAR                 168613    6083  202650\nlabel:IN_CLASS                 102953    6110  268283\nlabel:WITH_CO-WORKERS          105840    6224  265282\nlabel:DRIVE_-_I_M_THE_DRIVER   154289    7975  215082\nlabel:OR_exercise              232756    8081  136509\nlabel:PHONE_IN_BAG              82261   10201  284884\nlabel:OR_outside               139384   12114  225848\nlabel:WATCHING_TV              183041   13311  180994\nlabel:PHONE_IN_HAND            127130   14573  235643\nlabel:EATING                   279887   16594   80865\nlabel:SURFING_THE_INTERNET     173267   19416  184663\nlabel:FIX_walking              284458   22136   70752\nlabel:PHONE_IN_POCKET          110963   23401  242982\nlabel:WITH_FRIENDS             140677   24737  211932\nlabel:LOC_main_workplace       167783   33944  175619\nlabel:TALKING                  243253   36293   97800\nlabel:OR_standing              268812   37782   70752\nlabel:COMPUTER_WORK            199478   38081  139787\nlabel:AT_SCHOOL                216833   42331  118182\nlabel:SLEEPING                 202213   83055   92078\nlabel:LYING_DOWN               199513  104210   73623\nlabel:PHONE_ON_TABLE            47386  115037  214923\nlabel:SITTING                  170238  136356   70752\nlabel:LOC_home                 202442  152892   22012\nlabel:OR_indoors                12114  184692  180540",
      "text/html": "<div>\n<style scoped>\n    .dataframe tbody tr th:only-of-type {\n        vertical-align: middle;\n    }\n\n    .dataframe tbody tr th {\n        vertical-align: top;\n    }\n\n    .dataframe thead th {\n        text-align: right;\n    }\n</style>\n<table border=\"1\" class=\"dataframe\">\n  <thead>\n    <tr style=\"text-align: right;\">\n      <th></th>\n      <th>0</th>\n      <th>1</th>\n      <th>NaN</th>\n    </tr>\n  </thead>\n  <tbody>\n    <tr>\n      <th>label:ELEVATOR</th>\n      <td>70996</td>\n      <td>200</td>\n      <td>306150</td>\n    </tr>\n    <tr>\n      <th>label:AT_A_BAR</th>\n      <td>32669</td>\n      <td>551</td>\n      <td>344126</td>\n    </tr>\n    <tr>\n      <th>label:DOING_LAUNDRY</th>\n      <td>73416</td>\n      <td>556</td>\n      <td>303374</td>\n    </tr>\n    <tr>\n      <th>label:LOC_beach</th>\n      <td>57059</td>\n      <td>585</td>\n      <td>319702</td>\n    </tr>\n    <tr>\n      <th>label:SINGING</th>\n      <td>24466</td>\n      <td>651</td>\n      <td>352229</td>\n    </tr>\n    <tr>\n      <th>label:STAIRS_-_GOING_DOWN</th>\n      <td>93641</td>\n      <td>774</td>\n      <td>282931</td>\n    </tr>\n    <tr>\n      <th>label:STAIRS_-_GOING_UP</th>\n      <td>93831</td>\n      <td>798</td>\n      <td>282717</td>\n    </tr>\n    <tr>\n      <th>label:STROLLING</th>\n      <td>52955</td>\n      <td>806</td>\n      <td>323585</td>\n    </tr>\n    <tr>\n      <th>label:FIX_running</th>\n      <td>139780</td>\n      <td>1090</td>\n      <td>236476</td>\n    </tr>\n    <tr>\n      <th>label:AT_THE_GYM</th>\n      <td>43242</td>\n      <td>1151</td>\n      <td>332953</td>\n    </tr>\n    <tr>\n      <th>label:WASHING_DISHES</th>\n      <td>135246</td>\n      <td>1228</td>\n      <td>240872</td>\n    </tr>\n    <tr>\n      <th>label:DRINKING__ALCOHOL_</th>\n      <td>69327</td>\n      <td>1456</td>\n      <td>306563</td>\n    </tr>\n    <tr>\n      <th>label:AT_A_PARTY</th>\n      <td>53093</td>\n      <td>1470</td>\n      <td>322783</td>\n    </tr>\n    <tr>\n      <th>label:ON_A_BUS</th>\n      <td>167238</td>\n      <td>1794</td>\n      <td>208314</td>\n    </tr>\n    <tr>\n      <th>label:SHOPPING</th>\n      <td>136952</td>\n      <td>1841</td>\n      <td>238553</td>\n    </tr>\n    <tr>\n      <th>label:BATHING_-_SHOWER</th>\n      <td>199033</td>\n      <td>2087</td>\n      <td>176226</td>\n    </tr>\n    <tr>\n      <th>label:FIX_restaurant</th>\n      <td>155484</td>\n      <td>2098</td>\n      <td>219764</td>\n    </tr>\n    <tr>\n      <th>label:DRESSING</th>\n      <td>205675</td>\n      <td>2233</td>\n      <td>169438</td>\n    </tr>\n    <tr>\n      <th>label:DRIVE_-_I_M_A_PASSENGER</th>\n      <td>128561</td>\n      <td>2526</td>\n      <td>246259</td>\n    </tr>\n    <tr>\n      <th>label:TOILET</th>\n      <td>217618</td>\n      <td>2655</td>\n      <td>157073</td>\n    </tr>\n    <tr>\n      <th>label:GROOMING</th>\n      <td>195736</td>\n      <td>3064</td>\n      <td>178546</td>\n    </tr>\n    <tr>\n      <th>label:CLEANING</th>\n      <td>155614</td>\n      <td>3806</td>\n      <td>217926</td>\n    </tr>\n    <tr>\n      <th>label:LAB_WORK</th>\n      <td>45547</td>\n      <td>3848</td>\n      <td>327951</td>\n    </tr>\n    <tr>\n      <th>label:COOKING</th>\n      <td>205317</td>\n      <td>4029</td>\n      <td>168000</td>\n    </tr>\n    <tr>\n      <th>label:BICYCLING</th>\n      <td>130163</td>\n      <td>5020</td>\n      <td>242163</td>\n    </tr>\n    <tr>\n      <th>label:IN_A_MEETING</th>\n      <td>226060</td>\n      <td>5153</td>\n      <td>146133</td>\n    </tr>\n    <tr>\n      <th>label:IN_A_CAR</th>\n      <td>168613</td>\n      <td>6083</td>\n      <td>202650</td>\n    </tr>\n    <tr>\n      <th>label:IN_CLASS</th>\n      <td>102953</td>\n      <td>6110</td>\n      <td>268283</td>\n    </tr>\n    <tr>\n      <th>label:WITH_CO-WORKERS</th>\n      <td>105840</td>\n      <td>6224</td>\n      <td>265282</td>\n    </tr>\n    <tr>\n      <th>label:DRIVE_-_I_M_THE_DRIVER</th>\n      <td>154289</td>\n      <td>7975</td>\n      <td>215082</td>\n    </tr>\n    <tr>\n      <th>label:OR_exercise</th>\n      <td>232756</td>\n      <td>8081</td>\n      <td>136509</td>\n    </tr>\n    <tr>\n      <th>label:PHONE_IN_BAG</th>\n      <td>82261</td>\n      <td>10201</td>\n      <td>284884</td>\n    </tr>\n    <tr>\n      <th>label:OR_outside</th>\n      <td>139384</td>\n      <td>12114</td>\n      <td>225848</td>\n    </tr>\n    <tr>\n      <th>label:WATCHING_TV</th>\n      <td>183041</td>\n      <td>13311</td>\n      <td>180994</td>\n    </tr>\n    <tr>\n      <th>label:PHONE_IN_HAND</th>\n      <td>127130</td>\n      <td>14573</td>\n      <td>235643</td>\n    </tr>\n    <tr>\n      <th>label:EATING</th>\n      <td>279887</td>\n      <td>16594</td>\n      <td>80865</td>\n    </tr>\n    <tr>\n      <th>label:SURFING_THE_INTERNET</th>\n      <td>173267</td>\n      <td>19416</td>\n      <td>184663</td>\n    </tr>\n    <tr>\n      <th>label:FIX_walking</th>\n      <td>284458</td>\n      <td>22136</td>\n      <td>70752</td>\n    </tr>\n    <tr>\n      <th>label:PHONE_IN_POCKET</th>\n      <td>110963</td>\n      <td>23401</td>\n      <td>242982</td>\n    </tr>\n    <tr>\n      <th>label:WITH_FRIENDS</th>\n      <td>140677</td>\n      <td>24737</td>\n      <td>211932</td>\n    </tr>\n    <tr>\n      <th>label:LOC_main_workplace</th>\n      <td>167783</td>\n      <td>33944</td>\n      <td>175619</td>\n    </tr>\n    <tr>\n      <th>label:TALKING</th>\n      <td>243253</td>\n      <td>36293</td>\n      <td>97800</td>\n    </tr>\n    <tr>\n      <th>label:OR_standing</th>\n      <td>268812</td>\n      <td>37782</td>\n      <td>70752</td>\n    </tr>\n    <tr>\n      <th>label:COMPUTER_WORK</th>\n      <td>199478</td>\n      <td>38081</td>\n      <td>139787</td>\n    </tr>\n    <tr>\n      <th>label:AT_SCHOOL</th>\n      <td>216833</td>\n      <td>42331</td>\n      <td>118182</td>\n    </tr>\n    <tr>\n      <th>label:SLEEPING</th>\n      <td>202213</td>\n      <td>83055</td>\n      <td>92078</td>\n    </tr>\n    <tr>\n      <th>label:LYING_DOWN</th>\n      <td>199513</td>\n      <td>104210</td>\n      <td>73623</td>\n    </tr>\n    <tr>\n      <th>label:PHONE_ON_TABLE</th>\n      <td>47386</td>\n      <td>115037</td>\n      <td>214923</td>\n    </tr>\n    <tr>\n      <th>label:SITTING</th>\n      <td>170238</td>\n      <td>136356</td>\n      <td>70752</td>\n    </tr>\n    <tr>\n      <th>label:LOC_home</th>\n      <td>202442</td>\n      <td>152892</td>\n      <td>22012</td>\n    </tr>\n    <tr>\n      <th>label:OR_indoors</th>\n      <td>12114</td>\n      <td>184692</td>\n      <td>180540</td>\n    </tr>\n  </tbody>\n</table>\n</div>"
     },
     "metadata": {},
     "output_type": "execute_result",
     "execution_count": 33
    }
   ],
   "source": [
    "results.sort_values(by=['1'], inplace=False)"
   ],
   "metadata": {
    "collapsed": false,
    "pycharm": {
     "name": "#%%\n",
     "is_executing": false
    }
   }
  },
  {
   "cell_type": "markdown",
   "source": [
    "Sorted ascending for NaN"
   ],
   "metadata": {
    "collapsed": false
   }
  },
  {
   "cell_type": "code",
   "execution_count": 34,
   "outputs": [
    {
     "data": {
      "text/plain": "                                    0       1     NaN\nlabel:LOC_home                 202442  152892   22012\nlabel:SITTING                  170238  136356   70752\nlabel:FIX_walking              284458   22136   70752\nlabel:OR_standing              268812   37782   70752\nlabel:LYING_DOWN               199513  104210   73623\nlabel:EATING                   279887   16594   80865\nlabel:SLEEPING                 202213   83055   92078\nlabel:TALKING                  243253   36293   97800\nlabel:AT_SCHOOL                216833   42331  118182\nlabel:OR_exercise              232756    8081  136509\nlabel:COMPUTER_WORK            199478   38081  139787\nlabel:IN_A_MEETING             226060    5153  146133\nlabel:TOILET                   217618    2655  157073\nlabel:COOKING                  205317    4029  168000\nlabel:DRESSING                 205675    2233  169438\nlabel:LOC_main_workplace       167783   33944  175619\nlabel:BATHING_-_SHOWER         199033    2087  176226\nlabel:GROOMING                 195736    3064  178546\nlabel:OR_indoors                12114  184692  180540\nlabel:WATCHING_TV              183041   13311  180994\nlabel:SURFING_THE_INTERNET     173267   19416  184663\nlabel:IN_A_CAR                 168613    6083  202650\nlabel:ON_A_BUS                 167238    1794  208314\nlabel:WITH_FRIENDS             140677   24737  211932\nlabel:PHONE_ON_TABLE            47386  115037  214923\nlabel:DRIVE_-_I_M_THE_DRIVER   154289    7975  215082\nlabel:CLEANING                 155614    3806  217926\nlabel:FIX_restaurant           155484    2098  219764\nlabel:OR_outside               139384   12114  225848\nlabel:PHONE_IN_HAND            127130   14573  235643\nlabel:FIX_running              139780    1090  236476\nlabel:SHOPPING                 136952    1841  238553\nlabel:WASHING_DISHES           135246    1228  240872\nlabel:BICYCLING                130163    5020  242163\nlabel:PHONE_IN_POCKET          110963   23401  242982\nlabel:DRIVE_-_I_M_A_PASSENGER  128561    2526  246259\nlabel:WITH_CO-WORKERS          105840    6224  265282\nlabel:IN_CLASS                 102953    6110  268283\nlabel:STAIRS_-_GOING_UP         93831     798  282717\nlabel:STAIRS_-_GOING_DOWN       93641     774  282931\nlabel:PHONE_IN_BAG              82261   10201  284884\nlabel:DOING_LAUNDRY             73416     556  303374\nlabel:ELEVATOR                  70996     200  306150\nlabel:DRINKING__ALCOHOL_        69327    1456  306563\nlabel:LOC_beach                 57059     585  319702\nlabel:AT_A_PARTY                53093    1470  322783\nlabel:STROLLING                 52955     806  323585\nlabel:LAB_WORK                  45547    3848  327951\nlabel:AT_THE_GYM                43242    1151  332953\nlabel:AT_A_BAR                  32669     551  344126\nlabel:SINGING                   24466     651  352229",
      "text/html": "<div>\n<style scoped>\n    .dataframe tbody tr th:only-of-type {\n        vertical-align: middle;\n    }\n\n    .dataframe tbody tr th {\n        vertical-align: top;\n    }\n\n    .dataframe thead th {\n        text-align: right;\n    }\n</style>\n<table border=\"1\" class=\"dataframe\">\n  <thead>\n    <tr style=\"text-align: right;\">\n      <th></th>\n      <th>0</th>\n      <th>1</th>\n      <th>NaN</th>\n    </tr>\n  </thead>\n  <tbody>\n    <tr>\n      <th>label:LOC_home</th>\n      <td>202442</td>\n      <td>152892</td>\n      <td>22012</td>\n    </tr>\n    <tr>\n      <th>label:SITTING</th>\n      <td>170238</td>\n      <td>136356</td>\n      <td>70752</td>\n    </tr>\n    <tr>\n      <th>label:FIX_walking</th>\n      <td>284458</td>\n      <td>22136</td>\n      <td>70752</td>\n    </tr>\n    <tr>\n      <th>label:OR_standing</th>\n      <td>268812</td>\n      <td>37782</td>\n      <td>70752</td>\n    </tr>\n    <tr>\n      <th>label:LYING_DOWN</th>\n      <td>199513</td>\n      <td>104210</td>\n      <td>73623</td>\n    </tr>\n    <tr>\n      <th>label:EATING</th>\n      <td>279887</td>\n      <td>16594</td>\n      <td>80865</td>\n    </tr>\n    <tr>\n      <th>label:SLEEPING</th>\n      <td>202213</td>\n      <td>83055</td>\n      <td>92078</td>\n    </tr>\n    <tr>\n      <th>label:TALKING</th>\n      <td>243253</td>\n      <td>36293</td>\n      <td>97800</td>\n    </tr>\n    <tr>\n      <th>label:AT_SCHOOL</th>\n      <td>216833</td>\n      <td>42331</td>\n      <td>118182</td>\n    </tr>\n    <tr>\n      <th>label:OR_exercise</th>\n      <td>232756</td>\n      <td>8081</td>\n      <td>136509</td>\n    </tr>\n    <tr>\n      <th>label:COMPUTER_WORK</th>\n      <td>199478</td>\n      <td>38081</td>\n      <td>139787</td>\n    </tr>\n    <tr>\n      <th>label:IN_A_MEETING</th>\n      <td>226060</td>\n      <td>5153</td>\n      <td>146133</td>\n    </tr>\n    <tr>\n      <th>label:TOILET</th>\n      <td>217618</td>\n      <td>2655</td>\n      <td>157073</td>\n    </tr>\n    <tr>\n      <th>label:COOKING</th>\n      <td>205317</td>\n      <td>4029</td>\n      <td>168000</td>\n    </tr>\n    <tr>\n      <th>label:DRESSING</th>\n      <td>205675</td>\n      <td>2233</td>\n      <td>169438</td>\n    </tr>\n    <tr>\n      <th>label:LOC_main_workplace</th>\n      <td>167783</td>\n      <td>33944</td>\n      <td>175619</td>\n    </tr>\n    <tr>\n      <th>label:BATHING_-_SHOWER</th>\n      <td>199033</td>\n      <td>2087</td>\n      <td>176226</td>\n    </tr>\n    <tr>\n      <th>label:GROOMING</th>\n      <td>195736</td>\n      <td>3064</td>\n      <td>178546</td>\n    </tr>\n    <tr>\n      <th>label:OR_indoors</th>\n      <td>12114</td>\n      <td>184692</td>\n      <td>180540</td>\n    </tr>\n    <tr>\n      <th>label:WATCHING_TV</th>\n      <td>183041</td>\n      <td>13311</td>\n      <td>180994</td>\n    </tr>\n    <tr>\n      <th>label:SURFING_THE_INTERNET</th>\n      <td>173267</td>\n      <td>19416</td>\n      <td>184663</td>\n    </tr>\n    <tr>\n      <th>label:IN_A_CAR</th>\n      <td>168613</td>\n      <td>6083</td>\n      <td>202650</td>\n    </tr>\n    <tr>\n      <th>label:ON_A_BUS</th>\n      <td>167238</td>\n      <td>1794</td>\n      <td>208314</td>\n    </tr>\n    <tr>\n      <th>label:WITH_FRIENDS</th>\n      <td>140677</td>\n      <td>24737</td>\n      <td>211932</td>\n    </tr>\n    <tr>\n      <th>label:PHONE_ON_TABLE</th>\n      <td>47386</td>\n      <td>115037</td>\n      <td>214923</td>\n    </tr>\n    <tr>\n      <th>label:DRIVE_-_I_M_THE_DRIVER</th>\n      <td>154289</td>\n      <td>7975</td>\n      <td>215082</td>\n    </tr>\n    <tr>\n      <th>label:CLEANING</th>\n      <td>155614</td>\n      <td>3806</td>\n      <td>217926</td>\n    </tr>\n    <tr>\n      <th>label:FIX_restaurant</th>\n      <td>155484</td>\n      <td>2098</td>\n      <td>219764</td>\n    </tr>\n    <tr>\n      <th>label:OR_outside</th>\n      <td>139384</td>\n      <td>12114</td>\n      <td>225848</td>\n    </tr>\n    <tr>\n      <th>label:PHONE_IN_HAND</th>\n      <td>127130</td>\n      <td>14573</td>\n      <td>235643</td>\n    </tr>\n    <tr>\n      <th>label:FIX_running</th>\n      <td>139780</td>\n      <td>1090</td>\n      <td>236476</td>\n    </tr>\n    <tr>\n      <th>label:SHOPPING</th>\n      <td>136952</td>\n      <td>1841</td>\n      <td>238553</td>\n    </tr>\n    <tr>\n      <th>label:WASHING_DISHES</th>\n      <td>135246</td>\n      <td>1228</td>\n      <td>240872</td>\n    </tr>\n    <tr>\n      <th>label:BICYCLING</th>\n      <td>130163</td>\n      <td>5020</td>\n      <td>242163</td>\n    </tr>\n    <tr>\n      <th>label:PHONE_IN_POCKET</th>\n      <td>110963</td>\n      <td>23401</td>\n      <td>242982</td>\n    </tr>\n    <tr>\n      <th>label:DRIVE_-_I_M_A_PASSENGER</th>\n      <td>128561</td>\n      <td>2526</td>\n      <td>246259</td>\n    </tr>\n    <tr>\n      <th>label:WITH_CO-WORKERS</th>\n      <td>105840</td>\n      <td>6224</td>\n      <td>265282</td>\n    </tr>\n    <tr>\n      <th>label:IN_CLASS</th>\n      <td>102953</td>\n      <td>6110</td>\n      <td>268283</td>\n    </tr>\n    <tr>\n      <th>label:STAIRS_-_GOING_UP</th>\n      <td>93831</td>\n      <td>798</td>\n      <td>282717</td>\n    </tr>\n    <tr>\n      <th>label:STAIRS_-_GOING_DOWN</th>\n      <td>93641</td>\n      <td>774</td>\n      <td>282931</td>\n    </tr>\n    <tr>\n      <th>label:PHONE_IN_BAG</th>\n      <td>82261</td>\n      <td>10201</td>\n      <td>284884</td>\n    </tr>\n    <tr>\n      <th>label:DOING_LAUNDRY</th>\n      <td>73416</td>\n      <td>556</td>\n      <td>303374</td>\n    </tr>\n    <tr>\n      <th>label:ELEVATOR</th>\n      <td>70996</td>\n      <td>200</td>\n      <td>306150</td>\n    </tr>\n    <tr>\n      <th>label:DRINKING__ALCOHOL_</th>\n      <td>69327</td>\n      <td>1456</td>\n      <td>306563</td>\n    </tr>\n    <tr>\n      <th>label:LOC_beach</th>\n      <td>57059</td>\n      <td>585</td>\n      <td>319702</td>\n    </tr>\n    <tr>\n      <th>label:AT_A_PARTY</th>\n      <td>53093</td>\n      <td>1470</td>\n      <td>322783</td>\n    </tr>\n    <tr>\n      <th>label:STROLLING</th>\n      <td>52955</td>\n      <td>806</td>\n      <td>323585</td>\n    </tr>\n    <tr>\n      <th>label:LAB_WORK</th>\n      <td>45547</td>\n      <td>3848</td>\n      <td>327951</td>\n    </tr>\n    <tr>\n      <th>label:AT_THE_GYM</th>\n      <td>43242</td>\n      <td>1151</td>\n      <td>332953</td>\n    </tr>\n    <tr>\n      <th>label:AT_A_BAR</th>\n      <td>32669</td>\n      <td>551</td>\n      <td>344126</td>\n    </tr>\n    <tr>\n      <th>label:SINGING</th>\n      <td>24466</td>\n      <td>651</td>\n      <td>352229</td>\n    </tr>\n  </tbody>\n</table>\n</div>"
     },
     "metadata": {},
     "output_type": "execute_result",
     "execution_count": 34
    }
   ],
   "source": [
    "results.sort_values(by=['NaN'], inplace=False)\n"
   ],
   "metadata": {
    "collapsed": false,
    "pycharm": {
     "name": "#%%\n",
     "is_executing": false
    }
   }
  }
 ],
 "metadata": {
  "kernelspec": {
   "display_name": "Python 3",
   "language": "python",
   "name": "python3"
  },
  "language_info": {
   "codemirror_mode": {
    "name": "ipython",
    "version": 3
   },
   "file_extension": ".py",
   "mimetype": "text/x-python",
   "name": "python",
   "nbconvert_exporter": "python",
   "pygments_lexer": "ipython3",
   "version": "3.6.7"
  },
  "pycharm": {
   "stem_cell": {
    "cell_type": "raw",
    "source": [],
    "metadata": {
     "collapsed": false
    }
   }
  }
 },
 "nbformat": 4,
 "nbformat_minor": 1
}